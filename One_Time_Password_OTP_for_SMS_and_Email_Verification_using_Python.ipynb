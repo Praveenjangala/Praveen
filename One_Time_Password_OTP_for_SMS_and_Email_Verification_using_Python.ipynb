{
  "nbformat": 4,
  "nbformat_minor": 0,
  "metadata": {
    "colab": {
      "provenance": []
    },
    "kernelspec": {
      "name": "python3",
      "display_name": "Python 3"
    },
    "language_info": {
      "name": "python"
    }
  },
  "cells": [
    {
      "cell_type": "code",
      "execution_count": 11,
      "metadata": {
        "id": "Twn8WwQiTA0J",
        "colab": {
          "base_uri": "https://localhost:8080/"
        },
        "outputId": "9c6248c5-32b0-4f22-8a93-59410c05829a"
      },
      "outputs": [
        {
          "output_type": "stream",
          "name": "stdout",
          "text": [
            "Enter the recipient's email address: praveenjangala08@gmail.com\n",
            "OTP sent successfully via email!\n",
            "Enter the recipient's phone number: 7702858528\n",
            "OTP sent successfully via SMS!\n"
          ]
        }
      ],
      "source": [
        "import smtplib\n",
        "from email.mime.text import MIMEText\n",
        "from email.mime.multipart import MIMEMultipart\n",
        "from twilio.rest import Client\n",
        "import random\n",
        "\n",
        "def send_email_otp(otp, recipient_email):\n",
        "    \"\"\"Sends the OTP to the given email address.\"\"\"\n",
        "\n",
        "    sender_email = \"praveenjangala08@gmail.com\"  # Replace with your email\n",
        "    sender_password = \"czmb ofyw keai dahj\"  # Replace with your email password or app password\n",
        "\n",
        "    message = MIMEMultipart()\n",
        "    message['From'] = \"praveenjangala08@gmail.com\"\n",
        "    message['To'] = recipient_email  # Use the provided recipient email\n",
        "    message['Subject'] = \"Your One-Time Password (OTP)\"\n",
        "\n",
        "    body = f\"Your OTP for verification is: {otp}\"\n",
        "    message.attach(MIMEText(body, 'plain'))\n",
        "\n",
        "    try:\n",
        "        with smtplib.SMTP_SSL('smtp.gmail.com', 465) as server:\n",
        "            server.login(sender_email, sender_password)\n",
        "            server.sendmail(sender_email, recipient_email, message.as_string())\n",
        "        print(\"OTP sent successfully via email!\")\n",
        "    except Exception as e:\n",
        "        print(f\"Error sending email: {e}\")\n",
        "\n",
        "\n",
        "def send_sms_otp(otp, recipient_phone):\n",
        "    \"\"\"Sends the OTP to the given phone number using Twilio.\"\"\"\n",
        "    account_sid = 'ACe8cd6dcb4b3ab9c51cb71a6cb2a16b0d'  # Replace with your Twilio Account SID\n",
        "    auth_token = '317b752b7bd81b2eaeb85cc587a6b621'  # Replace with your Twilio Auth Token - Make sure to replace!\n",
        "\n",
        "    client = Client(account_sid, auth_token)\n",
        "\n",
        "    try:\n",
        "        message = client.messages.create(\n",
        "            to= '+917702858528',\n",
        "            from_='+12185203522',  # Replace with your Twilio phone number\n",
        "            body=\"Your OTP for verification is\"\n",
        "        )\n",
        "        print(\"OTP sent successfully via SMS!\")\n",
        "    except Exception as e:\n",
        "        print(f\"Error sending SMS: {e}\")  # Corrected indentation\n",
        "\n",
        "\n",
        "def otp_generator():\n",
        "    \"\"\"Generates a 6-digit OTP.\"\"\"\n",
        "    return str(random.randint(100000, 999999))\n",
        "\n",
        "otp = otp_generator()\n",
        "recipient_email = input(\"Enter the recipient's email address: \")\n",
        "send_email_otp(otp, recipient_email)\n",
        "recipient_phone = input(\"Enter the recipient's phone number: \")\n",
        "send_sms_otp(otp, recipient_phone)"
      ]
    },
    {
      "cell_type": "code",
      "source": [
        "!pip install twilio"
      ],
      "metadata": {
        "colab": {
          "base_uri": "https://localhost:8080/"
        },
        "id": "WLpk8tUPL79w",
        "outputId": "a48489cb-58b1-4319-82f7-1dee9a2848a3"
      },
      "execution_count": 2,
      "outputs": [
        {
          "output_type": "stream",
          "name": "stdout",
          "text": [
            "Collecting twilio\n",
            "  Downloading twilio-9.4.1-py2.py3-none-any.whl.metadata (12 kB)\n",
            "Requirement already satisfied: requests>=2.0.0 in /usr/local/lib/python3.10/dist-packages (from twilio) (2.32.3)\n",
            "Requirement already satisfied: PyJWT<3.0.0,>=2.0.0 in /usr/local/lib/python3.10/dist-packages (from twilio) (2.10.1)\n",
            "Requirement already satisfied: aiohttp>=3.8.4 in /usr/local/lib/python3.10/dist-packages (from twilio) (3.11.10)\n",
            "Collecting aiohttp-retry==2.8.3 (from twilio)\n",
            "  Downloading aiohttp_retry-2.8.3-py3-none-any.whl.metadata (8.9 kB)\n",
            "Requirement already satisfied: aiohappyeyeballs>=2.3.0 in /usr/local/lib/python3.10/dist-packages (from aiohttp>=3.8.4->twilio) (2.4.4)\n",
            "Requirement already satisfied: aiosignal>=1.1.2 in /usr/local/lib/python3.10/dist-packages (from aiohttp>=3.8.4->twilio) (1.3.2)\n",
            "Requirement already satisfied: async-timeout<6.0,>=4.0 in /usr/local/lib/python3.10/dist-packages (from aiohttp>=3.8.4->twilio) (4.0.3)\n",
            "Requirement already satisfied: attrs>=17.3.0 in /usr/local/lib/python3.10/dist-packages (from aiohttp>=3.8.4->twilio) (24.3.0)\n",
            "Requirement already satisfied: frozenlist>=1.1.1 in /usr/local/lib/python3.10/dist-packages (from aiohttp>=3.8.4->twilio) (1.5.0)\n",
            "Requirement already satisfied: multidict<7.0,>=4.5 in /usr/local/lib/python3.10/dist-packages (from aiohttp>=3.8.4->twilio) (6.1.0)\n",
            "Requirement already satisfied: propcache>=0.2.0 in /usr/local/lib/python3.10/dist-packages (from aiohttp>=3.8.4->twilio) (0.2.1)\n",
            "Requirement already satisfied: yarl<2.0,>=1.17.0 in /usr/local/lib/python3.10/dist-packages (from aiohttp>=3.8.4->twilio) (1.18.3)\n",
            "Requirement already satisfied: charset-normalizer<4,>=2 in /usr/local/lib/python3.10/dist-packages (from requests>=2.0.0->twilio) (3.4.0)\n",
            "Requirement already satisfied: idna<4,>=2.5 in /usr/local/lib/python3.10/dist-packages (from requests>=2.0.0->twilio) (3.10)\n",
            "Requirement already satisfied: urllib3<3,>=1.21.1 in /usr/local/lib/python3.10/dist-packages (from requests>=2.0.0->twilio) (2.2.3)\n",
            "Requirement already satisfied: certifi>=2017.4.17 in /usr/local/lib/python3.10/dist-packages (from requests>=2.0.0->twilio) (2024.12.14)\n",
            "Requirement already satisfied: typing-extensions>=4.1.0 in /usr/local/lib/python3.10/dist-packages (from multidict<7.0,>=4.5->aiohttp>=3.8.4->twilio) (4.12.2)\n",
            "Downloading twilio-9.4.1-py2.py3-none-any.whl (1.9 MB)\n",
            "\u001b[2K   \u001b[90m━━━━━━━━━━━━━━━━━━━━━━━━━━━━━━━━━━━━━━━━\u001b[0m \u001b[32m1.9/1.9 MB\u001b[0m \u001b[31m28.0 MB/s\u001b[0m eta \u001b[36m0:00:00\u001b[0m\n",
            "\u001b[?25hDownloading aiohttp_retry-2.8.3-py3-none-any.whl (9.8 kB)\n",
            "Installing collected packages: aiohttp-retry, twilio\n",
            "Successfully installed aiohttp-retry-2.8.3 twilio-9.4.1\n"
          ]
        }
      ]
    }
  ]
}